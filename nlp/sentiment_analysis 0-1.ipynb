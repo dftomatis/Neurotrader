{
 "cells": [
  {
   "cell_type": "code",
   "execution_count": 1,
   "metadata": {},
   "outputs": [
    {
     "name": "stderr",
     "output_type": "stream",
     "text": [
      "d:\\anaconda3\\envs\\torchgpu\\lib\\site-packages\\tqdm\\auto.py:21: TqdmWarning: IProgress not found. Please update jupyter and ipywidgets. See https://ipywidgets.readthedocs.io/en/stable/user_install.html\n",
      "  from .autonotebook import tqdm as notebook_tqdm\n",
      "Asking to truncate to max_length but no maximum length is provided and the model has no predefined maximum length. Default to no truncation.\n"
     ]
    },
    {
     "name": "stdout",
     "output_type": "stream",
     "text": [
      "Modelo y tokenizador cargados exitosamente.\n",
      "Frase: Everyone Is Along for the Crypto Ride Now, Even if It Ends Badly.\n",
      "  negative: 0.1467\n",
      "  neutral: 0.8401\n",
      "  positive: 0.0132\n",
      "\n",
      "Frase: Bitcoin and XRP Drop. Why Inflation Data Could Halt the Crypto Rally.\n",
      "  negative: 1.0000\n",
      "  neutral: 0.0000\n",
      "  positive: 0.0000\n",
      "\n",
      "Frase: Ethereum outpaces crypto market with 41% monthly surge; Bitcoin at $119K.\n",
      "  negative: 0.0000\n",
      "  neutral: 0.0000\n",
      "  positive: 1.0000\n",
      "\n"
     ]
    }
   ],
   "source": [
    "from transformers import AutoTokenizer, AutoModelForSequenceClassification\n",
    "import torch\n",
    "from transformers import BertForSequenceClassification, BertTokenizer\n",
    "\n",
    "model_name = \"MiguelZazu/finbert\"\n",
    "\n",
    "\n",
    "try:\n",
    "    tokenizer = BertTokenizer.from_pretrained(model_name)\n",
    "    model = BertForSequenceClassification.from_pretrained(model_name)\n",
    "    print(\"Modelo y tokenizador cargados exitosamente.\")\n",
    "except Exception as e:\n",
    "    print(f\"Ocurrió un error al cargar el modelo: {e}\")\n",
    "\n",
    "sentences = [\n",
    "    \"Everyone Is Along for the Crypto Ride Now, Even if It Ends Badly.\",\n",
    "    \"Bitcoin and XRP Drop. Why Inflation Data Could Halt the Crypto Rally.\",\n",
    "    \"Ethereum outpaces crypto market with 41% monthly surge; Bitcoin at $119K.\"\n",
    "]\n",
    "\n",
    "inputs = tokenizer(sentences, return_tensors=\"pt\", padding=True, truncation=True)\n",
    "\n",
    "\n",
    "with torch.no_grad():\n",
    "    outputs = model(**inputs)\n",
    "\n",
    "predictions = torch.nn.functional.softmax(outputs.logits, dim=-1)\n",
    "labels = [\"negative\", \"neutral\", \"positive\"]\n",
    "\n",
    "for i, sentence in enumerate(sentences):\n",
    "    print(f\"Frase: {sentence}\")\n",
    "    for j, label in enumerate(labels):\n",
    "        print(f\"  {label}: {predictions[i][j]:.4f}\")\n",
    "    print()"
   ]
  },
  {
   "cell_type": "code",
   "execution_count": 7,
   "metadata": {},
   "outputs": [
    {
     "name": "stderr",
     "output_type": "stream",
     "text": [
      "Asking to truncate to max_length but no maximum length is provided and the model has no predefined maximum length. Default to no truncation.\n"
     ]
    },
    {
     "name": "stdout",
     "output_type": "stream",
     "text": [
      "Modelo y tokenizador cargados exitosamente.\n",
      "Frase: Everyone Is Along for the Crypto Ride Now, Even if It Ends Badly.\n",
      "  neutral: 0.9830\n",
      "  positive: 0.0002\n",
      "  negative: 0.0168\n",
      "\n",
      "Frase: Bitcoin and XRP Drop. Why Inflation Data Could Halt the Crypto Rally.\n",
      "  neutral: 0.0042\n",
      "  positive: 0.0122\n",
      "  negative: 0.9837\n",
      "\n",
      "Frase: Ethereum outpaces crypto market with 41% monthly surge; Bitcoin at $119K.\n",
      "  neutral: 0.0000\n",
      "  positive: 1.0000\n",
      "  negative: 0.0000\n",
      "\n"
     ]
    }
   ],
   "source": [
    "from transformers import AutoTokenizer, AutoModelForSequenceClassification\n",
    "import torch\n",
    "from transformers import BertForSequenceClassification, BertTokenizer\n",
    "\n",
    "# Cargar el modelo\n",
    "model_name = \"yiyanghkust/finbert-tone\"\n",
    "\n",
    "\n",
    "try:\n",
    "    tokenizer = BertTokenizer.from_pretrained(model_name)\n",
    "    model = BertForSequenceClassification.from_pretrained(model_name)\n",
    "    print(\"Modelo y tokenizador cargados exitosamente.\")\n",
    "except Exception as e:\n",
    "    print(f\"Ocurrió un error al cargar el modelo: {e}\")\n",
    "\n",
    "sentences = [\n",
    "    \"Everyone Is Along for the Crypto Ride Now, Even if It Ends Badly.\",\n",
    "    \"Bitcoin and XRP Drop. Why Inflation Data Could Halt the Crypto Rally.\",\n",
    "    \"Ethereum outpaces crypto market with 41% monthly surge; Bitcoin at $119K.\"\n",
    "]\n",
    "\n",
    "inputs = tokenizer(sentences, return_tensors=\"pt\", padding=True, truncation=True)\n",
    "\n",
    "\n",
    "with torch.no_grad():\n",
    "    outputs = model(**inputs)\n",
    "\n",
    "predictions = torch.nn.functional.softmax(outputs.logits, dim=-1)\n",
    "labels = [\"neutral\", \"positive\", \"negative\"]\n",
    "\n",
    "for i, sentence in enumerate(sentences):\n",
    "    print(f\"Frase: {sentence}\")\n",
    "    for j, label in enumerate(labels):\n",
    "        print(f\"  {label}: {predictions[i][j]:.4f}\")\n",
    "    print()"
   ]
  },
  {
   "cell_type": "code",
   "execution_count": null,
   "metadata": {},
   "outputs": [
    {
     "name": "stderr",
     "output_type": "stream",
     "text": [
      "Asking to truncate to max_length but no maximum length is provided and the model has no predefined maximum length. Default to no truncation.\n"
     ]
    },
    {
     "name": "stdout",
     "output_type": "stream",
     "text": [
      "Modelo y tokenizador cargados exitosamente.\n",
      "Frase: Everyone Is Along for the Crypto Ride Now, Even if It Ends Badly.\n",
      "  negative: 0.1467\n",
      "  neutral: 0.8401\n",
      "  positive: 0.0132\n",
      "  Sentimiento numérico (0-1): 0.4332\n",
      "\n",
      "Frase: Bitcoin and XRP Drop. Why Inflation Data Could Halt the Crypto Rally.\n",
      "  negative: 1.0000\n",
      "  neutral: 0.0000\n",
      "  positive: 0.0000\n",
      "  Sentimiento numérico (0-1): 0.0000\n",
      "\n",
      "Frase: Ethereum outpaces crypto market with 41% monthly surge; Bitcoin at $119K.\n",
      "  negative: 0.0000\n",
      "  neutral: 0.0000\n",
      "  positive: 1.0000\n",
      "  Sentimiento numérico (0-1): 1.0000\n",
      "\n"
     ]
    }
   ],
   "source": [
    "from transformers import BertForSequenceClassification, BertTokenizer\n",
    "import torch\n",
    "\n",
    "model_name = \"MiguelZazu/finbert\"\n",
    "\n",
    "try:\n",
    "    tokenizer = BertTokenizer.from_pretrained(model_name)\n",
    "    model = BertForSequenceClassification.from_pretrained(model_name)\n",
    "    print(\"Modelo y tokenizador cargados exitosamente.\")\n",
    "except Exception as e:\n",
    "    print(f\"Ocurrió un error al cargar el modelo: {e}\")\n",
    "\n",
    "sentences = [\n",
    "    \"Everyone Is Along for the Crypto Ride Now, Even if It Ends Badly.\",\n",
    "    \"Bitcoin and XRP Drop. Why Inflation Data Could Halt the Crypto Rally.\",\n",
    "    \"Ethereum outpaces crypto market with 41% monthly surge; Bitcoin at $119K.\"\n",
    "]\n",
    "\n",
    "inputs = tokenizer(sentences, return_tensors=\"pt\", padding=True, truncation=True)\n",
    "\n",
    "with torch.no_grad():\n",
    "    outputs = model(**inputs)\n",
    "\n",
    "predictions = torch.nn.functional.softmax(outputs.logits, dim=-1)\n",
    "labels = [\"negative\", \"neutral\", \"positive\"]\n",
    "\n",
    "valores_sentimiento = [0, 0.5, 1]\n",
    "\n",
    "for i, sentence in enumerate(sentences):\n",
    "    print(f\"Frase: {sentence}\")\n",
    "    for j, label in enumerate(labels):\n",
    "        print(f\"  {label}: {predictions[i][j]:.4f}\")\n",
    "    \n",
    "    sentimiento_numerico = torch.sum(predictions[i] * torch.tensor(valores_sentimiento))\n",
    "    print(f\"  Sentimiento numérico (0-1): {sentimiento_numerico.item():.4f}\\n\")"
   ]
  }
 ],
 "metadata": {
  "kernelspec": {
   "display_name": "torchgpu",
   "language": "python",
   "name": "python3"
  },
  "language_info": {
   "codemirror_mode": {
    "name": "ipython",
    "version": 3
   },
   "file_extension": ".py",
   "mimetype": "text/x-python",
   "name": "python",
   "nbconvert_exporter": "python",
   "pygments_lexer": "ipython3",
   "version": "3.10.16"
  }
 },
 "nbformat": 4,
 "nbformat_minor": 4
}
