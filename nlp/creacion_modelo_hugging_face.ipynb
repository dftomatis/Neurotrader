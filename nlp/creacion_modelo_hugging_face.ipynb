{
 "cells": [
  {
   "cell_type": "code",
   "execution_count": 1,
   "metadata": {},
   "outputs": [
    {
     "name": "stderr",
     "output_type": "stream",
     "text": [
      "d:\\anaconda3\\envs\\torchgpu\\lib\\site-packages\\tqdm\\auto.py:21: TqdmWarning: IProgress not found. Please update jupyter and ipywidgets. See https://ipywidgets.readthedocs.io/en/stable/user_install.html\n",
      "  from .autonotebook import tqdm as notebook_tqdm\n"
     ]
    },
    {
     "name": "stdout",
     "output_type": "stream",
     "text": [
      "Pesos del modelo cargados exitosamente.\n"
     ]
    },
    {
     "data": {
      "text/plain": [
       "('C:\\\\Users\\\\migue\\\\Documents\\\\Keep_Coding\\\\Neurotrader\\\\notebooks\\\\modelo_hugging_face\\\\tokenizer_config.json',\n",
       " 'C:\\\\Users\\\\migue\\\\Documents\\\\Keep_Coding\\\\Neurotrader\\\\notebooks\\\\modelo_hugging_face\\\\special_tokens_map.json',\n",
       " 'C:\\\\Users\\\\migue\\\\Documents\\\\Keep_Coding\\\\Neurotrader\\\\notebooks\\\\modelo_hugging_face\\\\vocab.txt',\n",
       " 'C:\\\\Users\\\\migue\\\\Documents\\\\Keep_Coding\\\\Neurotrader\\\\notebooks\\\\modelo_hugging_face\\\\added_tokens.json')"
      ]
     },
     "execution_count": 1,
     "metadata": {},
     "output_type": "execute_result"
    }
   ],
   "source": [
    "import torch\n",
    "from transformers import BertForSequenceClassification, BertTokenizer\n",
    "\n",
    "tokenizer = BertTokenizer.from_pretrained(\"yiyanghkust/finbert-tone\")\n",
    "model = BertForSequenceClassification.from_pretrained(\"yiyanghkust/finbert-tone\")\n",
    "\n",
    "weights_path = \"C:\\\\Users\\\\migue\\\\Downloads\\\\trial_3_epoch_4_step_Best_model.pt\"\n",
    "\n",
    "try:\n",
    "    model.load_state_dict(torch.load(weights_path))\n",
    "    print(\"Pesos del modelo cargados exitosamente.\")\n",
    "except FileNotFoundError:\n",
    "    print(f\"Error: No se encontró el archivo de pesos en la ruta: {weights_path}\")\n",
    "    exit()\n",
    "except Exception as e:\n",
    "    print(f\"Error al cargar los pesos: {e}\")\n",
    "    exit()\n",
    "\n",
    "output_dir = \"C:\\\\Users\\\\migue\\\\Documents\\\\Keep_Coding\\\\Neurotrader\\\\notebooks\\\\modelo_hugging_face\"\n",
    "\n",
    "model.save_pretrained(output_dir)\n",
    "\n",
    "tokenizer.save_pretrained(output_dir)"
   ]
  },
  {
   "cell_type": "code",
   "execution_count": 2,
   "metadata": {},
   "outputs": [
    {
     "name": "stderr",
     "output_type": "stream",
     "text": [
      "model.safetensors: 100%|██████████| 439M/439M [02:03<00:00, 3.55MB/s] \n"
     ]
    },
    {
     "data": {
      "text/plain": [
       "CommitInfo(commit_url='https://huggingface.co/MiguelZazu/finbert/commit/af8fe45e9cb7290ed13de852a3b99d1e4205d2ff', commit_message='Upload folder using huggingface_hub', commit_description='', oid='af8fe45e9cb7290ed13de852a3b99d1e4205d2ff', pr_url=None, repo_url=RepoUrl('https://huggingface.co/MiguelZazu/finbert', endpoint='https://huggingface.co', repo_type='model', repo_id='MiguelZazu/finbert'), pr_revision=None, pr_num=None)"
      ]
     },
     "execution_count": 2,
     "metadata": {},
     "output_type": "execute_result"
    }
   ],
   "source": [
    "from huggingface_hub import HfApi\n",
    "\n",
    "api = HfApi()\n",
    "\n",
    "repo_id = \"MiguelZazu/finbert\"\n",
    "\n",
    "api.upload_folder(\n",
    "    folder_path=output_dir,\n",
    "    repo_id=repo_id,\n",
    "    repo_type=\"model\"\n",
    ")"
   ]
  },
  {
   "cell_type": "code",
   "execution_count": 10,
   "metadata": {},
   "outputs": [
    {
     "name": "stderr",
     "output_type": "stream",
     "text": [
      "d:\\anaconda3\\envs\\torchgpu\\lib\\site-packages\\huggingface_hub\\hf_api.py:9692: UserWarning: Warnings while validating metadata in README.md:\n",
      "- empty or missing yaml metadata in repo card\n",
      "  warnings.warn(f\"Warnings while validating metadata in README.md:\\n{message}\")\n"
     ]
    },
    {
     "data": {
      "text/plain": [
       "CommitInfo(commit_url='https://huggingface.co/MiguelZazu/finbert/commit/f490688024f4018bcf93a60107b5afce803cab95', commit_message='Upload config.json with huggingface_hub', commit_description='', oid='f490688024f4018bcf93a60107b5afce803cab95', pr_url=None, repo_url=RepoUrl('https://huggingface.co/MiguelZazu/finbert', endpoint='https://huggingface.co', repo_type='model', repo_id='MiguelZazu/finbert'), pr_revision=None, pr_num=None)"
      ]
     },
     "execution_count": 10,
     "metadata": {},
     "output_type": "execute_result"
    }
   ],
   "source": [
    "api.upload_file(\n",
    "    path_or_fileobj=\"README.md\",\n",
    "    path_in_repo=\"README.md\",\n",
    "    repo_id=repo_id,\n",
    ")\n",
    "\n",
    "api.upload_file(\n",
    "    path_or_fileobj=\"config.json\",\n",
    "    path_in_repo=\"config.json\",\n",
    "    repo_id=repo_id,\n",
    ")"
   ]
  }
 ],
 "metadata": {
  "kernelspec": {
   "display_name": "torchgpu",
   "language": "python",
   "name": "python3"
  },
  "language_info": {
   "codemirror_mode": {
    "name": "ipython",
    "version": 3
   },
   "file_extension": ".py",
   "mimetype": "text/x-python",
   "name": "python",
   "nbconvert_exporter": "python",
   "pygments_lexer": "ipython3",
   "version": "3.10.16"
  }
 },
 "nbformat": 4,
 "nbformat_minor": 4
}
